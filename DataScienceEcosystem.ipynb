{
 "cells": [
  {
   "cell_type": "markdown",
   "id": "b44ee0d0-464e-4600-9d54-c075bcb8746b",
   "metadata": {},
   "source": [
    "# Data Science Tools and Ecosystem"
   ]
  },
  {
   "cell_type": "markdown",
   "id": "9868e2bf-ae13-4fdc-87b1-6b1ff11ddc3f",
   "metadata": {
    "tags": []
   },
   "source": [
    "**Objectives:**\n",
    "- Create a Jupyter Notebook\n",
    "- Create markdown cell with title of the notebook\n",
    "- List popular languages for Data Science\n",
    "- Create a code cell to multiply and add numbers"
   ]
  },
  {
   "cell_type": "markdown",
   "id": "ba6556e1-8f44-4be4-9af5-1cdb1c2afd91",
   "metadata": {},
   "source": [
    "In this notebook, Data Science Tools and Ecosystem are summarized."
   ]
  },
  {
   "cell_type": "markdown",
   "id": "df55f86f-d3f9-446a-a857-a1449770a913",
   "metadata": {},
   "source": [
    "Some of the popular languages that Data Scientists use are:\n",
    "1. Python\n",
    "2. Sql\n",
    "3. R"
   ]
  },
  {
   "cell_type": "markdown",
   "id": "dfe9466a-947d-4bc3-b9f2-a7924cbdb051",
   "metadata": {},
   "source": [
    "Some of the commonly used libraries used by Data Scientists include:\n",
    "1. Pandas\n",
    "2. Matplotlib\n",
    "3. Numpy"
   ]
  },
  {
   "cell_type": "markdown",
   "id": "4e21f3c7-23c9-467f-86d2-993cda04d0b8",
   "metadata": {},
   "source": [
    "|Data Science Tools|\n",
    "|-| \n",
    "|Anaconda|\n",
    "|R Studio|\n",
    "|JupyterLab|"
   ]
  },
  {
   "cell_type": "markdown",
   "id": "293f69fe-3e42-474f-ad22-5d6a2b1d9604",
   "metadata": {},
   "source": [
    "### Below are a few examples of evaluating arithmetic expressions in Python"
   ]
  },
  {
   "cell_type": "code",
   "execution_count": 1,
   "id": "1d70e81c-87d6-4d43-9d62-53562580c9e9",
   "metadata": {
    "tags": []
   },
   "outputs": [
    {
     "data": {
      "text/plain": [
       "17"
      ]
     },
     "execution_count": 1,
     "metadata": {},
     "output_type": "execute_result"
    }
   ],
   "source": [
    "#This a simple arithmetic expression to mutiply then add integers\n",
    "(3*4)+5"
   ]
  },
  {
   "cell_type": "code",
   "execution_count": 7,
   "id": "481f9f12-2586-468d-86c4-d37d1af59e03",
   "metadata": {
    "tags": []
   },
   "outputs": [
    {
     "name": "stdout",
     "output_type": "stream",
     "text": [
      "3.3333333333333335\n"
     ]
    }
   ],
   "source": [
    "#This will convert 200 minutes to hours by diving by 60\n",
    "x_mins = 200\n",
    "x_hrs = x_mins/60\n",
    "print(x_hrs)"
   ]
  },
  {
   "cell_type": "markdown",
   "id": "718fcaa5-1875-4cb6-ac09-00692a4dca66",
   "metadata": {},
   "source": [
    "## Author\n",
    "Hussain Tom MUHAMMAD"
   ]
  },
  {
   "cell_type": "code",
   "execution_count": null,
   "id": "b185db3f-1483-4ec7-b773-aef8dd23fde0",
   "metadata": {},
   "outputs": [],
   "source": []
  }
 ],
 "metadata": {
  "kernelspec": {
   "display_name": "Python",
   "language": "python",
   "name": "conda-env-python-py"
  },
  "language_info": {
   "codemirror_mode": {
    "name": "ipython",
    "version": 3
   },
   "file_extension": ".py",
   "mimetype": "text/x-python",
   "name": "python",
   "nbconvert_exporter": "python",
   "pygments_lexer": "ipython3",
   "version": "3.7.12"
  }
 },
 "nbformat": 4,
 "nbformat_minor": 5
}
